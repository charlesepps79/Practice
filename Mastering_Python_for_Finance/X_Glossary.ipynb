{
 "cells": [
  {
   "cell_type": "markdown",
   "metadata": {},
   "source": [
    "### Asset\n",
    "An asset is a resource with economic value that an individual, corporation or country owns or controls with the expectation that it will provide future benefit. Assets are reported on a company's balance sheet, and they are bought or created to increase the value of a firm or benefit the firm's operations. An asset can be thought of as something that in the future can generate cash flow, reduce expenses, improve sales, regardless of whether it's a company's manufacturing equipment or a patent on a particular technology."
   ]
  },
  {
   "cell_type": "markdown",
   "metadata": {},
   "source": [
    "### Call\n",
    "A call auction is sometimes referred to as a call market; it's a time on an exchange when buyers set a maximum price that they are willing to pay for a given security, and sellers set a minimum that they are willing to accept. The buyers and sellers are matched in a process that can increase liquidity and decrease volatility.\n",
    "\n",
    "A call is also an option contract that gives the owner the right but not the obligation to buy a specified amount of an underlying security at a specified price within a specified time."
   ]
  },
  {
   "cell_type": "markdown",
   "metadata": {},
   "source": [
    "### Expiration Time (time to expiry)\n",
    "A specified time, after which the options contract is no longer valid. The expiration time gives a more specific deadline to an options contract on top of the expiration date by giving a time of day. The expiration time will not be the same as the last time to trade the option."
   ]
  },
  {
   "cell_type": "markdown",
   "metadata": {},
   "source": [
    "### Option\n",
    "An option is a financial derivative that represents a contract sold by one party (the option writer) to another party (the option holder). The contract offers the buyer the right, but not the obligation, to buy (call) or sell (put) a security or other financial asset at an agreed-upon price (the strike price) during a certain period of time or on a specific date (exercise date)."
   ]
  },
  {
   "attachments": {
    "image.png": {
     "image/png": "[encoded data removed]"
    }
   },
   "cell_type": "markdown",
   "metadata": {},
   "source": [
    "### Put\n",
    "A put is an option contract giving the owner the right, but not the obligation, to sell a specified amount of an underlying asset at a set price within a specified time. The buyer of a put option believes the underlying asset will drop below the exercise price before the expiration date. The exercise price is the price the underlying asset must reach for the put option contract to hold value. The possible payoff for a holder of a put option contract is illustrated by the following diagram:\n",
    "\n",
    "![image.png](attachment:image.png)"
   ]
  },
  {
   "cell_type": "markdown",
   "metadata": {},
   "source": [
    "### Return\n",
    "A return is the gain or loss of a security in a particular period. The return consists of the income and the capital gains relative on an investment, and it is usually quoted as a percentage. The general rule is that the more risk you take, the greater the potential for higher returns and losses.\n",
    "\n",
    "Return is also used as an abbreviation for income tax return — see 1040 Form."
   ]
  },
  {
   "cell_type": "markdown",
   "metadata": {},
   "source": [
    "### Risk-Free Rate Of Return\n",
    "The risk-free rate of return is the theoretical rate of return of an investment with zero risk. The risk-free rate represents the interest an investor would expect from an absolutely risk-free investment over a specified period of time.\n",
    "\n",
    "In theory, the risk-free rate is the minimum return an investor expects for any investment because he will not accept additional risk unless the potential rate of return is greater than the risk-free rate.\n",
    "\n",
    "In practice, however, the risk-free rate does not exist because even the safest investments carry a very small amount of risk. Thus, the interest rate on a three-month U.S. Treasury bill is often used as the risk-free rate for U.S.-based investors."
   ]
  },
  {
   "cell_type": "markdown",
   "metadata": {},
   "source": [
    "### Securities\n",
    "Reference term for a financial asset, such as stocks or bonds."
   ]
  },
  {
   "cell_type": "markdown",
   "metadata": {},
   "source": [
    "### Strike Price\n",
    "A strike price is the price at which a specific derivative contract can be exercised. The term is mostly used to describe stock and index options in which strike prices are fixed in the contract. For call options, the strike price is where the security can be bought (up to the expiration date); for put options, the strike price is the price at which shares can be sold."
   ]
  },
  {
   "cell_type": "markdown",
   "metadata": {},
   "source": [
    "### Value at Risk\n",
    "Statistical technique used to measure and quantify the level of financial risk within a firm or investment portfolio over a specific time frame. This metric is most commonly used by investment and commercial banks to determine the extent and occurrence ratio of potential losses in their institutional portfolios. VaR calculations can be applied to specific positions or portfolios as a whole or to measure firm-wide risk exposure."
   ]
  },
  {
   "cell_type": "markdown",
   "metadata": {},
   "source": [
    "### Volatility\n",
    "1. Statistical measure of the dispersion of returns for a given security or market index. Volatility can either be measured by using the standard deviation or variance between returns from that same security or market index. Commonly, the higher the volatility, the riskier the security.\n",
    "\n",
    "2. A variable in option pricing formulas showing the extent to which the return of the underlying asset will fluctuate between now and the option's expiration. Volatility, as expressed as a percentage coefficient within option-pricing formulas, arises from daily trading activities. How volatility is measured will affect the value of the coefficient used."
   ]
  },
  {
   "cell_type": "markdown",
   "metadata": {},
   "source": [
    "### Yield\n",
    "\n",
    "The yield is the income return on an investment, such as the interest or dividends received from holding a particular security. The yield is usually expressed as an annual percentage rate based on the investment's cost, current market value or face value. Yields may be considered known or anticipated depending on the security in question as certain securities may experience fluctuations in value."
   ]
  },
  {
   "cell_type": "code",
   "execution_count": null,
   "metadata": {
    "collapsed": true
   },
   "outputs": [],
   "source": []
  }
 ],
 "metadata": {
  "kernelspec": {
   "display_name": "Python 3",
   "language": "python",
   "name": "python3"
  },
  "language_info": {
   "codemirror_mode": {
    "name": "ipython",
    "version": 3
   },
   "file_extension": ".py",
   "mimetype": "text/x-python",
   "name": "python",
   "nbconvert_exporter": "python",
   "pygments_lexer": "ipython3",
   "version": "3.6.2"
  }
 },
 "nbformat": 4,
 "nbformat_minor": 2
}
